{
 "cells": [
  {
   "cell_type": "markdown",
   "id": "0ba8805d",
   "metadata": {},
   "source": [
    "## PTA w/ 2D SFS\n",
    "\n",
    "The new PTA 2D jMSFS and all 2D simulation code are in the PTA repo on a seperate branch `PTA-2D`.\n",
    "```\n",
    "git clone https://github.com/isaacovercast/PTA\n",
    "cd PTA\n",
    "git fetch --all\n",
    "git checkout PTA-2D\n",
    "pip install -e .\n",
    "```"
   ]
  },
  {
   "cell_type": "code",
   "execution_count": 11,
   "id": "e5c88c7c",
   "metadata": {},
   "outputs": [
    {
     "name": "stdout",
     "output_type": "stream",
     "text": [
      "The autoreload extension is already loaded. To reload it, use:\n",
      "  %reload_ext autoreload\n"
     ]
    }
   ],
   "source": [
    "%load_ext autoreload\n",
    "%autoreload 2\n",
    "%matplotlib inline\n",
    "\n",
    "import glob\n",
    "import matplotlib.pyplot as plt\n",
    "import math\n",
    "import msprime\n",
    "import numpy as np\n",
    "import pandas as pd\n",
    "import PTA\n",
    "\n",
    "pd.set_option('display.max_columns', None)\n",
    "\n",
    "from IPython.display import SVG, display"
   ]
  },
  {
   "cell_type": "code",
   "execution_count": 3,
   "id": "b7e75bca",
   "metadata": {},
   "outputs": [
    {
     "name": "stdout",
     "output_type": "stream",
     "text": [
      "------- PTA params file (v.0.0.11)----------------------------------------------\n",
      "2D-test              ## [0] [simulation_name]: The name of this simulation scenario\n",
      "./default_PTA        ## [1] [project_dir]: Where to save files\n",
      "10                   ## [2] [npops]: Number of populations undergoing co-demographic processes\n",
      "4                    ## [3] [nsamps]: Numbers of samples for each populations\n",
      "10000                ## [4] [N_e]: Effective population size of the contemporary population\n",
      "20000                ## [5] [tau]: Time of demographic change\n",
      "10                   ## [6] [epsilon]: Magnitude of demographic change\n",
      "0                    ## [7] [zeta]: Proportion of coexpanding taxa. Default will sample U~(0, 1)\n",
      "1000                 ## [8] [length]: Length in bp of each independent genomic region to simulate\n",
      "100                  ## [9] [num_replicates]: Number of genomic regions to simulate\n",
      "1                    ## [10] [generation_time]: Generation time in years\n",
      "1e-09                ## [11] [recoms_per_gen]: Recombination rate within independent regions scaled per base per generation\n",
      "1e-08                ## [12] [muts_per_gen]: Mutation rate scaled per base per generation\n",
      "80                   ## [13] [t_recent_change]: Time of recent size change (years)\n",
      "110                  ## [14] [t_historic_samp]: Time the historical sample was taken (years)\n",
      "15000                ## [15] [t_ancestral_change]: Time of ancestral size change (years)\n",
      "100000               ## [16] [ne_ancestral]: Ancestral Ne\n",
      "-0.1                 ## [17] [r_modern]: Growth rate between time 0 and t_recent_change\n",
      "0                    ## [18] [r_ancestral]: Growth rate between t_ancestral_change and t_recent_change\n",
      "\n"
     ]
    }
   ],
   "source": [
    "sim = PTA.DemographicModel(\"2D-test\")\n",
    "print(sim.get_params())"
   ]
  },
  {
   "cell_type": "markdown",
   "id": "be710c33",
   "metadata": {},
   "source": [
    "## Modify some parameters"
   ]
  },
  {
   "cell_type": "code",
   "execution_count": 6,
   "id": "6feaf842",
   "metadata": {},
   "outputs": [],
   "source": [
    "sim.set_param(\"npops\", 4)                       # Number of co-distributed population pairs\n",
    "sim.set_param(\"nsamps\", [3,2])                  # Historical and contemporary sample size (in diploid individuals)\n",
    "sim.set_param(\"num_replicates\", 10)             # Number of independent genomic regions to simulate (# loci)\n",
    "sim.set_param(\"muts_per_gen\", 0.0000001)        # Obvious\n",
    "sim.set_param(\"generation_time\", 3)            # Obvious"
   ]
  },
  {
   "cell_type": "markdown",
   "id": "c4c7454f",
   "metadata": {},
   "source": [
    "## Run one 2d simulation to capture the results"
   ]
  },
  {
   "cell_type": "code",
   "execution_count": 13,
   "id": "d56b65bf",
   "metadata": {},
   "outputs": [
    {
     "name": "stdout",
     "output_type": "stream",
     "text": [
      "  [####################] 100%  Finished 1 simulations in   0:00:00 | \n",
      " "
     ]
    }
   ],
   "source": [
    "my_jmsfs = sim.serial_simulate_2d(nsims=1)[0]"
   ]
  },
  {
   "cell_type": "code",
   "execution_count": 14,
   "id": "b408e470",
   "metadata": {},
   "outputs": [
    {
     "data": {
      "text/plain": [
       "<matplotlib.colorbar.Colorbar at 0x7fc70291fbe0>"
      ]
     },
     "execution_count": 14,
     "metadata": {},
     "output_type": "execute_result"
    },
    {
     "data": {
      "image/png": "[encoded data removed]",
      "text/plain": [
       "<Figure size 432x288 with 2 Axes>"
      ]
     },
     "metadata": {
      "needs_background": "light"
     },
     "output_type": "display_data"
    }
   ],
   "source": [
    "my_jmsfs.plot_2d_sfs()"
   ]
  },
  {
   "cell_type": "markdown",
   "id": "af5071e6",
   "metadata": {},
   "source": [
    "## Run several simulations"
   ]
  },
  {
   "cell_type": "code",
   "execution_count": 15,
   "id": "dc8d2594",
   "metadata": {},
   "outputs": [
    {
     "name": "stdout",
     "output_type": "stream",
     "text": [
      "    Generating 10 simulation(s).\n",
      "  [####################] 100%  Finished 10 simulations in   0:00:00| \n",
      " "
     ]
    }
   ],
   "source": [
    "sim.simulate(nsims=10)"
   ]
  },
  {
   "cell_type": "markdown",
   "id": "f6862259",
   "metadata": {},
   "source": [
    "## Simulation results are written to a file"
   ]
  },
  {
   "cell_type": "code",
   "execution_count": 25,
   "id": "631a3de4",
   "metadata": {},
   "outputs": [
    {
     "name": "stdout",
     "output_type": "stream",
     "text": [
      "zeta zeta_e psi t_s omega taus_mean taus_std taus_skewness taus_kurtosis taus_median taus_iqr epsilons_mean epsilons_std epsilons_skewness epsilons_kurtosis epsilons_median epsilons_iqr Ne_s_mean Ne_s_std Ne_s_skewness Ne_s_kurtosis Ne_s_median Ne_s_iqr 0 1 2 3 4 5 6 7 8 9 10 11 12 13 14 15 16 17 18 19 20 21 22 23 24 25 26 27 28 29 30 31 32 33 34 35 36 37 38 39 40 41 42 43 44 45 46 47 48 49 50 51 52 53 54 55 56 57 58 59 60 61 62 63 64 65 66 67 68 69 70 71 72 73 74 75 76 77 78 79 80 81 82 83 84 85 86 87 88 89 90 91 92 93 94 95 96 97 98 99 100 101 102 103 104 105 106 107 108 109 110 111 112 113 114 115 116 117 118 119 120 121 122 123 124 125 126 127 128 129 130 131 132 133 134 135 136 137 138 139\r\n",
      "1 4 1 6666.667 0 6666.667 0.000 0.000 -3.000 6666.667 0.000 10.000 0.000 0.000 -3.000 10.000 0.000 10000.000 0.000 0.000 -3.000 10000.000 0.000 0.000 201.000 182.500 0.500 0.000 274.500 174.500 103.000 100.500 0.500 169.500 269.500 140.500 30.500 0.000 74.500 80.000 51.000 0.000 0.000 37.000 0.000 0.000 0.000 0.000 0.000 0.000 0.000 0.000 0.000 0.000 0.000 0.000 0.000 0.000 0.000 192.500 28.000 0.000 0.000 265.500 170.000 70.500 2.000 0.000 73.500 68.000 90.000 26.000 0.000 21.500 55.000 32.000 0.000 0.000 3.500 0.000 0.000 0.000 0.000 0.000 0.000 0.000 0.000 0.000 0.000 0.000 0.000 0.000 0.000 0.000 151.000 25.500 0.000 0.000 260.000 162.000 61.000 0.000 0.000 42.000 35.500 53.000 14.500 0.000 21.500 54.500 23.500 0.000 0.000 1.000 0.000 0.000 0.000 0.000 0.000 0.000 0.000 0.000 0.000 0.000 0.000 0.000 0.000 0.000 0.000 119.500 15.000 0.000 0.000 240.000 160.000 40.000 0.000 0.000 32.000 33.500 52.000 3.500 0.000 1.500 10.000 17.000 0.000 0.000 0.500 0.000 0.000 0.000 0.000 0.000 0.000 0.000 0.000 0.000 0.000 0.000 0.000 0.000 0.000\r\n"
     ]
    }
   ],
   "source": [
    "!head -n 2 ./default_PTA/2D-test-SIMOUT.csv"
   ]
  },
  {
   "cell_type": "markdown",
   "id": "32b19bfc",
   "metadata": {},
   "source": [
    "## They can also be loaded back in and reformatted nicely for analysis"
   ]
  },
  {
   "cell_type": "code",
   "execution_count": 26,
   "id": "03619323",
   "metadata": {},
   "outputs": [],
   "source": [
    "params, jmsfs = sim.load_simulations()"
   ]
  },
  {
   "cell_type": "code",
   "execution_count": 27,
   "id": "f814d0cf",
   "metadata": {},
   "outputs": [
    {
     "ename": "KeyError",
     "evalue": "0",
     "output_type": "error",
     "traceback": [
      "\u001b[0;31m---------------------------------------------------------------------------\u001b[0m",
      "\u001b[0;31mKeyError\u001b[0m                                  Traceback (most recent call last)",
      "File \u001b[0;32m~/miniconda3/envs/PTA/lib/python3.10/site-packages/pandas/core/indexes/base.py:3621\u001b[0m, in \u001b[0;36mIndex.get_loc\u001b[0;34m(self, key, method, tolerance)\u001b[0m\n\u001b[1;32m   3620\u001b[0m \u001b[38;5;28;01mtry\u001b[39;00m:\n\u001b[0;32m-> 3621\u001b[0m     \u001b[38;5;28;01mreturn\u001b[39;00m \u001b[38;5;28;43mself\u001b[39;49m\u001b[38;5;241;43m.\u001b[39;49m\u001b[43m_engine\u001b[49m\u001b[38;5;241;43m.\u001b[39;49m\u001b[43mget_loc\u001b[49m\u001b[43m(\u001b[49m\u001b[43mcasted_key\u001b[49m\u001b[43m)\u001b[49m\n\u001b[1;32m   3622\u001b[0m \u001b[38;5;28;01mexcept\u001b[39;00m \u001b[38;5;167;01mKeyError\u001b[39;00m \u001b[38;5;28;01mas\u001b[39;00m err:\n",
      "File \u001b[0;32m~/miniconda3/envs/PTA/lib/python3.10/site-packages/pandas/_libs/index.pyx:136\u001b[0m, in \u001b[0;36mpandas._libs.index.IndexEngine.get_loc\u001b[0;34m()\u001b[0m\n",
      "File \u001b[0;32m~/miniconda3/envs/PTA/lib/python3.10/site-packages/pandas/_libs/index.pyx:163\u001b[0m, in \u001b[0;36mpandas._libs.index.IndexEngine.get_loc\u001b[0;34m()\u001b[0m\n",
      "File \u001b[0;32mpandas/_libs/hashtable_class_helper.pxi:5198\u001b[0m, in \u001b[0;36mpandas._libs.hashtable.PyObjectHashTable.get_item\u001b[0;34m()\u001b[0m\n",
      "File \u001b[0;32mpandas/_libs/hashtable_class_helper.pxi:5206\u001b[0m, in \u001b[0;36mpandas._libs.hashtable.PyObjectHashTable.get_item\u001b[0;34m()\u001b[0m\n",
      "\u001b[0;31mKeyError\u001b[0m: 0",
      "\nThe above exception was the direct cause of the following exception:\n",
      "\u001b[0;31mKeyError\u001b[0m                                  Traceback (most recent call last)",
      "Input \u001b[0;32mIn [27]\u001b[0m, in \u001b[0;36m<cell line: 1>\u001b[0;34m()\u001b[0m\n\u001b[0;32m----> 1\u001b[0m \u001b[38;5;28mprint\u001b[39m(\u001b[43mparams\u001b[49m\u001b[43m[\u001b[49m\u001b[38;5;241;43m0\u001b[39;49m\u001b[43m]\u001b[49m, jmsfs[\u001b[38;5;241m0\u001b[39m])\n",
      "File \u001b[0;32m~/miniconda3/envs/PTA/lib/python3.10/site-packages/pandas/core/frame.py:3505\u001b[0m, in \u001b[0;36mDataFrame.__getitem__\u001b[0;34m(self, key)\u001b[0m\n\u001b[1;32m   3503\u001b[0m \u001b[38;5;28;01mif\u001b[39;00m \u001b[38;5;28mself\u001b[39m\u001b[38;5;241m.\u001b[39mcolumns\u001b[38;5;241m.\u001b[39mnlevels \u001b[38;5;241m>\u001b[39m \u001b[38;5;241m1\u001b[39m:\n\u001b[1;32m   3504\u001b[0m     \u001b[38;5;28;01mreturn\u001b[39;00m \u001b[38;5;28mself\u001b[39m\u001b[38;5;241m.\u001b[39m_getitem_multilevel(key)\n\u001b[0;32m-> 3505\u001b[0m indexer \u001b[38;5;241m=\u001b[39m \u001b[38;5;28;43mself\u001b[39;49m\u001b[38;5;241;43m.\u001b[39;49m\u001b[43mcolumns\u001b[49m\u001b[38;5;241;43m.\u001b[39;49m\u001b[43mget_loc\u001b[49m\u001b[43m(\u001b[49m\u001b[43mkey\u001b[49m\u001b[43m)\u001b[49m\n\u001b[1;32m   3506\u001b[0m \u001b[38;5;28;01mif\u001b[39;00m is_integer(indexer):\n\u001b[1;32m   3507\u001b[0m     indexer \u001b[38;5;241m=\u001b[39m [indexer]\n",
      "File \u001b[0;32m~/miniconda3/envs/PTA/lib/python3.10/site-packages/pandas/core/indexes/base.py:3623\u001b[0m, in \u001b[0;36mIndex.get_loc\u001b[0;34m(self, key, method, tolerance)\u001b[0m\n\u001b[1;32m   3621\u001b[0m     \u001b[38;5;28;01mreturn\u001b[39;00m \u001b[38;5;28mself\u001b[39m\u001b[38;5;241m.\u001b[39m_engine\u001b[38;5;241m.\u001b[39mget_loc(casted_key)\n\u001b[1;32m   3622\u001b[0m \u001b[38;5;28;01mexcept\u001b[39;00m \u001b[38;5;167;01mKeyError\u001b[39;00m \u001b[38;5;28;01mas\u001b[39;00m err:\n\u001b[0;32m-> 3623\u001b[0m     \u001b[38;5;28;01mraise\u001b[39;00m \u001b[38;5;167;01mKeyError\u001b[39;00m(key) \u001b[38;5;28;01mfrom\u001b[39;00m \u001b[38;5;21;01merr\u001b[39;00m\n\u001b[1;32m   3624\u001b[0m \u001b[38;5;28;01mexcept\u001b[39;00m \u001b[38;5;167;01mTypeError\u001b[39;00m:\n\u001b[1;32m   3625\u001b[0m     \u001b[38;5;66;03m# If we have a listlike key, _check_indexing_error will raise\u001b[39;00m\n\u001b[1;32m   3626\u001b[0m     \u001b[38;5;66;03m#  InvalidIndexError. Otherwise we fall through and re-raise\u001b[39;00m\n\u001b[1;32m   3627\u001b[0m     \u001b[38;5;66;03m#  the TypeError.\u001b[39;00m\n\u001b[1;32m   3628\u001b[0m     \u001b[38;5;28mself\u001b[39m\u001b[38;5;241m.\u001b[39m_check_indexing_error(key)\n",
      "\u001b[0;31mKeyError\u001b[0m: 0"
     ]
    }
   ],
   "source": [
    "print(params.[0], jmsfs[0])"
   ]
  }
 ],
 "metadata": {
  "kernelspec": {
   "display_name": "Python 3 (ipykernel)",
   "language": "python",
   "name": "python3"
  },
  "language_info": {
   "codemirror_mode": {
    "name": "ipython",
    "version": 3
   },
   "file_extension": ".py",
   "mimetype": "text/x-python",
   "name": "python",
   "nbconvert_exporter": "python",
   "pygments_lexer": "ipython3",
   "version": "3.10.4"
  }
 },
 "nbformat": 4,
 "nbformat_minor": 5
}
