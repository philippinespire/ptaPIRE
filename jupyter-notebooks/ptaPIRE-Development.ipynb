{
 "cells": [
  {
   "cell_type": "markdown",
   "id": "a12fe736",
   "metadata": {},
   "source": [
    "## PTA w/ 2D SFS\n",
    "\n",
    "The new PTA 2D jMSFS and all 2D simulation code are in the PTA repo `master` branch. Install:\n",
    "\n",
    "```\n",
    "conda create -n pta python=3.9           ## <- It has to be python 3.9\n",
    "conda activate pta\n",
    "conda install -c conda-forge -c bioconda -c PTA pta\n",
    "```\n",
    "\n",
    "This notebook demonstrates the API interface, but you can also run 2D sims from the command line:\n",
    "\n",
    "```\n",
    "# Create a new 2D params file\n",
    "$> PTA -m 2D_Temporal -n my2d-sims\n",
    "# Run 10 simulations (-s) in parallel on 10 cores (-c)\n",
    "$> PTA -p params-my2d-sims.txt -s 10 -c 10\n",
    "```"
   ]
  },
  {
   "cell_type": "code",
   "execution_count": 22,
   "id": "4de952e0",
   "metadata": {},
   "outputs": [
    {
     "name": "stdout",
     "output_type": "stream",
     "text": [
      "The autoreload extension is already loaded. To reload it, use:\n",
      "  %reload_ext autoreload\n",
      "50\n"
     ]
    }
   ],
   "source": [
    "%load_ext autoreload\n",
    "%autoreload 2\n",
    "%matplotlib inline\n",
    "\n",
    "import glob\n",
    "import ipyparallel as ipp\n",
    "import matplotlib.pyplot as plt\n",
    "import math\n",
    "import msprime\n",
    "import numpy as np\n",
    "import pandas as pd\n",
    "import PTA\n",
    "\n",
    "from IPython.display import SVG, display\n",
    "\n",
    "pd.set_option('display.max_columns', None)\n",
    "\n",
    "ipyclient = ipp.Client(cluster_id=\"PTA\")\n",
    "print(len(ipyclient))"
   ]
  },
  {
   "cell_type": "code",
   "execution_count": 108,
   "id": "6e78b071",
   "metadata": {},
   "outputs": [
    {
     "name": "stdout",
     "output_type": "stream",
     "text": [
      "------- PTA params - DemographicModel_2D_Temporal - (v.0.0.12) -----------------\n",
      "2D-test              ## [0] [simulation_name]: The name of this simulation scenario\n",
      "./default_PTA        ## [1] [project_dir]: Where to save files\n",
      "10                   ## [2] [npops]: Number of populations undergoing co-demographic processes\n",
      "4,4                  ## [3] [nsamps]: Numbers of samples for each populations\n",
      "0                    ## [4] [zeta]: Proportion of coexpanding taxa. Default will sample U~(0, 1)\n",
      "1000                 ## [5] [length]: Length in bp of each independent genomic region to simulate\n",
      "100                  ## [6] [num_replicates]: Number of genomic regions to simulate\n",
      "1                    ## [7] [generation_time]: Generation time in years\n",
      "1e-09                ## [8] [recoms_per_gen]: Recombination rate within independent regions scaled per base per generation\n",
      "1e-08                ## [9] [muts_per_gen]: Mutation rate scaled per base per generation\n",
      "80                   ## [10] [t_recent_change]: Time of recent size change (years)\n",
      "110                  ## [11] [t_historic_samp]: Time the historical sample was taken (years)\n",
      "15000                ## [12] [t_ancestral_change]: Time of ancestral size change (years)\n",
      "100000               ## [13] [ne_ancestral]: Ancestral Ne\n",
      "-0.1                 ## [14] [r_modern_mu]: Mean growth rate between time 0 and t_recent_change\n",
      "0                    ## [15] [r_modern_sigma]: Stdv for r_modern normal distribution\n",
      "0                    ## [16] [r_ancestral]: Growth rate between t_ancestral_change and t_recent_change\n",
      "\n"
     ]
    }
   ],
   "source": [
    "sim = PTA.DemographicModel_2D_Temporal(\"2D-test\")\n",
    "print(sim.get_params())"
   ]
  },
  {
   "cell_type": "markdown",
   "id": "f3ffd6fb",
   "metadata": {},
   "source": [
    "## Modify some parameters"
   ]
  },
  {
   "cell_type": "code",
   "execution_count": 109,
   "id": "499c3bf5",
   "metadata": {},
   "outputs": [
    {
     "name": "stdout",
     "output_type": "stream",
     "text": [
      "------- PTA params - DemographicModel_2D_Temporal - (v.0.0.12) -----------------\n",
      "2D-test              ## [0] [simulation_name]: The name of this simulation scenario\n",
      "./default_PTA        ## [1] [project_dir]: Where to save files\n",
      "5                    ## [2] [npops]: Number of populations undergoing co-demographic processes\n",
      "10,10                ## [3] [nsamps]: Numbers of samples for each populations\n",
      "0                    ## [4] [zeta]: Proportion of coexpanding taxa. Default will sample U~(0, 1)\n",
      "1000                 ## [5] [length]: Length in bp of each independent genomic region to simulate\n",
      "100,100,100,100,100  ## [6] [num_replicates]: Number of genomic regions to simulate\n",
      "3.0,3.0,3.0,3.0,3.0  ## [7] [generation_time]: Generation time in years\n",
      "1e-09                ## [8] [recoms_per_gen]: Recombination rate within independent regions scaled per base per generation\n",
      "1e-07                ## [9] [muts_per_gen]: Mutation rate scaled per base per generation\n",
      "80                   ## [10] [t_recent_change]: Time of recent size change (years)\n",
      "110                  ## [11] [t_historic_samp]: Time the historical sample was taken (years)\n",
      "15000                ## [12] [t_ancestral_change]: Time of ancestral size change (years)\n",
      "100000               ## [13] [ne_ancestral]: Ancestral Ne\n",
      "-0.1                 ## [14] [r_modern_mu]: Mean growth rate between time 0 and t_recent_change\n",
      "0                    ## [15] [r_modern_sigma]: Stdv for r_modern normal distribution\n",
      "0                    ## [16] [r_ancestral]: Growth rate between t_ancestral_change and t_recent_change\n",
      "\n"
     ]
    }
   ],
   "source": [
    "sim.set_param(\"npops\", 5)                       # Number of co-distributed population pairs\n",
    "sim.set_param(\"nsamps\", [10,10])                  # Historical and contemporary sample size (in diploid individuals)\n",
    "sim.set_param(\"num_replicates\", 100)             # Number of independent genomic regions to simulate (# loci)\n",
    "sim.set_param(\"muts_per_gen\", 0.0000001)        # Obvious\n",
    "sim.set_param(\"generation_time\", 3)             # Obvious\n",
    "sim.set_param(\"ne_ancestral\", 100000)            # Set a prior range on ne_ancestral\n",
    "print(sim.get_params())"
   ]
  },
  {
   "cell_type": "markdown",
   "id": "32cbd12e",
   "metadata": {},
   "source": [
    "## Run one 2d simulation to capture the results"
   ]
  },
  {
   "cell_type": "code",
   "execution_count": 111,
   "id": "4f2679e8",
   "metadata": {
    "scrolled": true
   },
   "outputs": [
    {
     "name": "stdout",
     "output_type": "stream",
     "text": [
      "  [####################] 100%  Finished 1 simulations in   0:00:00 | \n",
      " "
     ]
    }
   ],
   "source": [
    "my_jmsfs = sim.serial_simulate(nsims=1)"
   ]
  },
  {
   "cell_type": "markdown",
   "id": "30a2a965",
   "metadata": {},
   "source": [
    "## Take the first jMSFS and plot the average per bin across all species"
   ]
  },
  {
   "cell_type": "code",
   "execution_count": 57,
   "id": "eb6bcf89",
   "metadata": {},
   "outputs": [
    {
     "data": {
      "text/plain": [
       "<matplotlib.colorbar.Colorbar at 0x7f71ab5a0d00>"
      ]
     },
     "execution_count": 57,
     "metadata": {},
     "output_type": "execute_result"
    },
    {
     "data": {
      "image/png": "[encoded data removed]",
      "text/plain": [
       "<Figure size 432x288 with 2 Axes>"
      ]
     },
     "metadata": {
      "needs_background": "light"
     },
     "output_type": "display_data"
    }
   ],
   "source": [
    "my_jmsfs[0].plot_2d_sfs()"
   ]
  },
  {
   "cell_type": "markdown",
   "id": "7f9747d9",
   "metadata": {},
   "source": [
    "## Run several simulations"
   ]
  },
  {
   "cell_type": "code",
   "execution_count": 28,
   "id": "b8e5e261",
   "metadata": {},
   "outputs": [
    {
     "name": "stdout",
     "output_type": "stream",
     "text": [
      "    Generating 1000 simulation(s).\n",
      "  [####################] 100%  Finished 1000 simulations in   0:01:09\n",
      "     Generating 1000 simulation(s).\n",
      "  [####################] 100%  Finished 1000 simulations in   0:01:12\n",
      "     Generating 1000 simulation(s).\n",
      "  [####################] 100%  Finished 1000 simulations in   0:01:10\n",
      "     Generating 1000 simulation(s).\n",
      "  [####################] 100%  Finished 1000 simulations in   0:01:13\n",
      " "
     ]
    }
   ],
   "source": [
    "#!rm ./default_PTA/2D-test-SIMOUT.csv\n",
    "nsims = 1000\n",
    "sim.set_param(\"r_modern_mu\", -0.1)\n",
    "sim.set_param(\"ne_ancestral\", 10000)\n",
    "sim.simulate(nsims=nsims, ipyclient=ipyclient)\n",
    "\n",
    "sim.set_param(\"ne_ancestral\", 100000)\n",
    "sim.simulate(nsims=nsims, ipyclient=ipyclient)\n",
    "\n",
    "sim.set_param(\"r_modern_mu\", -0.01)\n",
    "sim.set_param(\"ne_ancestral\", 10000)\n",
    "sim.simulate(nsims=nsims, ipyclient=ipyclient)\n",
    "\n",
    "sim.set_param(\"ne_ancestral\", 100000)\n",
    "sim.simulate(nsims=nsims, ipyclient=ipyclient)"
   ]
  },
  {
   "cell_type": "markdown",
   "id": "29b5a251",
   "metadata": {},
   "source": [
    "## Simulation results are written to a file"
   ]
  },
  {
   "cell_type": "code",
   "execution_count": 112,
   "id": "77c448b7",
   "metadata": {},
   "outputs": [],
   "source": [
    "#!head -n 2 ./default_PTA/2D-test-SIMOUT.csv"
   ]
  },
  {
   "cell_type": "markdown",
   "id": "9c706a37",
   "metadata": {},
   "source": [
    "## They can also be loaded back in and reformatted nicely for analysis"
   ]
  },
  {
   "cell_type": "code",
   "execution_count": 26,
   "id": "896087a1",
   "metadata": {},
   "outputs": [
    {
     "name": "stdout",
     "output_type": "stream",
     "text": [
      "400\n"
     ]
    },
    {
     "data": {
      "text/html": [
       "<div>\n",
       "<style scoped>\n",
       "    .dataframe tbody tr th:only-of-type {\n",
       "        vertical-align: middle;\n",
       "    }\n",
       "\n",
       "    .dataframe tbody tr th {\n",
       "        vertical-align: top;\n",
       "    }\n",
       "\n",
       "    .dataframe thead th {\n",
       "        text-align: right;\n",
       "    }\n",
       "</style>\n",
       "<table border=\"1\" class=\"dataframe\">\n",
       "  <thead>\n",
       "    <tr style=\"text-align: right;\">\n",
       "      <th></th>\n",
       "      <th>zeta</th>\n",
       "      <th>zeta_e</th>\n",
       "      <th>r_moderns_mean</th>\n",
       "      <th>r_moderns_std</th>\n",
       "      <th>r_moderns_skewness</th>\n",
       "      <th>r_moderns_kurtosis</th>\n",
       "      <th>r_moderns_median</th>\n",
       "      <th>r_moderns_iqr</th>\n",
       "      <th>Ne_s_mean</th>\n",
       "      <th>Ne_s_std</th>\n",
       "      <th>Ne_s_skewness</th>\n",
       "      <th>Ne_s_kurtosis</th>\n",
       "      <th>Ne_s_median</th>\n",
       "      <th>Ne_s_iqr</th>\n",
       "    </tr>\n",
       "  </thead>\n",
       "  <tbody>\n",
       "    <tr>\n",
       "      <th>395</th>\n",
       "      <td>0.562</td>\n",
       "      <td>3</td>\n",
       "      <td>-0.01</td>\n",
       "      <td>0.0</td>\n",
       "      <td>0.0</td>\n",
       "      <td>-3.0</td>\n",
       "      <td>-0.01</td>\n",
       "      <td>0.0</td>\n",
       "      <td>100000.0</td>\n",
       "      <td>0.0</td>\n",
       "      <td>0.0</td>\n",
       "      <td>-3.0</td>\n",
       "      <td>100000.0</td>\n",
       "      <td>0.0</td>\n",
       "    </tr>\n",
       "    <tr>\n",
       "      <th>396</th>\n",
       "      <td>0.797</td>\n",
       "      <td>4</td>\n",
       "      <td>-0.01</td>\n",
       "      <td>0.0</td>\n",
       "      <td>0.0</td>\n",
       "      <td>-3.0</td>\n",
       "      <td>-0.01</td>\n",
       "      <td>0.0</td>\n",
       "      <td>100000.0</td>\n",
       "      <td>0.0</td>\n",
       "      <td>0.0</td>\n",
       "      <td>-3.0</td>\n",
       "      <td>100000.0</td>\n",
       "      <td>0.0</td>\n",
       "    </tr>\n",
       "    <tr>\n",
       "      <th>397</th>\n",
       "      <td>0.964</td>\n",
       "      <td>5</td>\n",
       "      <td>-0.01</td>\n",
       "      <td>0.0</td>\n",
       "      <td>0.0</td>\n",
       "      <td>-3.0</td>\n",
       "      <td>-0.01</td>\n",
       "      <td>0.0</td>\n",
       "      <td>100000.0</td>\n",
       "      <td>0.0</td>\n",
       "      <td>0.0</td>\n",
       "      <td>-3.0</td>\n",
       "      <td>100000.0</td>\n",
       "      <td>0.0</td>\n",
       "    </tr>\n",
       "    <tr>\n",
       "      <th>398</th>\n",
       "      <td>0.033</td>\n",
       "      <td>1</td>\n",
       "      <td>-0.01</td>\n",
       "      <td>0.0</td>\n",
       "      <td>0.0</td>\n",
       "      <td>-3.0</td>\n",
       "      <td>-0.01</td>\n",
       "      <td>0.0</td>\n",
       "      <td>100000.0</td>\n",
       "      <td>0.0</td>\n",
       "      <td>0.0</td>\n",
       "      <td>-3.0</td>\n",
       "      <td>100000.0</td>\n",
       "      <td>0.0</td>\n",
       "    </tr>\n",
       "    <tr>\n",
       "      <th>399</th>\n",
       "      <td>0.149</td>\n",
       "      <td>1</td>\n",
       "      <td>-0.01</td>\n",
       "      <td>0.0</td>\n",
       "      <td>0.0</td>\n",
       "      <td>-3.0</td>\n",
       "      <td>-0.01</td>\n",
       "      <td>0.0</td>\n",
       "      <td>100000.0</td>\n",
       "      <td>0.0</td>\n",
       "      <td>0.0</td>\n",
       "      <td>-3.0</td>\n",
       "      <td>100000.0</td>\n",
       "      <td>0.0</td>\n",
       "    </tr>\n",
       "  </tbody>\n",
       "</table>\n",
       "</div>"
      ],
      "text/plain": [
       "      zeta  zeta_e  r_moderns_mean  r_moderns_std  r_moderns_skewness  \\\n",
       "395  0.562       3           -0.01            0.0                 0.0   \n",
       "396  0.797       4           -0.01            0.0                 0.0   \n",
       "397  0.964       5           -0.01            0.0                 0.0   \n",
       "398  0.033       1           -0.01            0.0                 0.0   \n",
       "399  0.149       1           -0.01            0.0                 0.0   \n",
       "\n",
       "     r_moderns_kurtosis  r_moderns_median  r_moderns_iqr  Ne_s_mean  Ne_s_std  \\\n",
       "395                -3.0             -0.01            0.0   100000.0       0.0   \n",
       "396                -3.0             -0.01            0.0   100000.0       0.0   \n",
       "397                -3.0             -0.01            0.0   100000.0       0.0   \n",
       "398                -3.0             -0.01            0.0   100000.0       0.0   \n",
       "399                -3.0             -0.01            0.0   100000.0       0.0   \n",
       "\n",
       "     Ne_s_skewness  Ne_s_kurtosis  Ne_s_median  Ne_s_iqr  \n",
       "395            0.0           -3.0     100000.0       0.0  \n",
       "396            0.0           -3.0     100000.0       0.0  \n",
       "397            0.0           -3.0     100000.0       0.0  \n",
       "398            0.0           -3.0     100000.0       0.0  \n",
       "399            0.0           -3.0     100000.0       0.0  "
      ]
     },
     "execution_count": 26,
     "metadata": {},
     "output_type": "execute_result"
    }
   ],
   "source": [
    "params, jmsfs = sim.load_simulations()\n",
    "print(len(jmsfs))\n",
    "params.tail()"
   ]
  },
  {
   "cell_type": "code",
   "execution_count": 18,
   "id": "3b676aad",
   "metadata": {
    "collapsed": true,
    "jupyter": {
     "outputs_hidden": true
    }
   },
   "outputs": [
    {
     "name": "stdout",
     "output_type": "stream",
     "text": [
      "zeta                       0.924\n",
      "zeta_e                     4.000\n",
      "r_moderns_mean             0.000\n",
      "r_moderns_std              0.000\n",
      "r_moderns_skewness         0.000\n",
      "r_moderns_kurtosis        -3.000\n",
      "r_moderns_median           0.000\n",
      "r_moderns_iqr              0.000\n",
      "Ne_s_mean             100000.000\n",
      "Ne_s_std                   0.000\n",
      "Ne_s_skewness              0.000\n",
      "Ne_s_kurtosis             -3.000\n",
      "Ne_s_median           100000.000\n",
      "Ne_s_iqr                   0.000\n",
      "Name: 0, dtype: float64 [[[  0.  177.   39.    1.    0. ]\n",
      "  [310.   89.  325.   80.5  76.5]\n",
      "  [ 86.5 129.5  92.   55.    0. ]\n",
      "  [ 35.  153.   74.5   0.    0. ]\n",
      "  [ 15.    0.    0.    0.    0. ]\n",
      "  [  0.    0.    0.    0.    0. ]\n",
      "  [  0.    0.    0.    0.    0. ]]\n",
      "\n",
      " [[  0.  173.   30.5   1.    0. ]\n",
      "  [303.5  83.5  45.   25.    1. ]\n",
      "  [ 50.5 120.5  36.5  37.5   0. ]\n",
      "  [ 14.   70.5  67.    0.    0. ]\n",
      "  [ 13.5   0.    0.    0.    0. ]\n",
      "  [  0.    0.    0.    0.    0. ]\n",
      "  [  0.    0.    0.    0.    0. ]]\n",
      "\n",
      " [[  0.  117.   16.5   0.5   0. ]\n",
      "  [258.   63.5  29.    4.5   0.5]\n",
      "  [ 48.   72.   16.   23.    0. ]\n",
      "  [  8.5  29.    9.5   0.    0. ]\n",
      "  [  1.    0.    0.    0.    0. ]\n",
      "  [  0.    0.    0.    0.    0. ]\n",
      "  [  0.    0.    0.    0.    0. ]]\n",
      "\n",
      " [[  0.   87.   15.    0.    0. ]\n",
      "  [167.5  37.5  21.5   3.    0. ]\n",
      "  [ 27.5  63.5   3.   10.    0. ]\n",
      "  [  7.   19.5   8.5   0.    0. ]\n",
      "  [  0.    0.    0.    0.    0. ]\n",
      "  [  0.    0.    0.    0.    0. ]\n",
      "  [  0.    0.    0.    0.    0. ]]]\n"
     ]
    }
   ],
   "source": [
    "print(params.iloc[0], jmsfs[0])"
   ]
  },
  {
   "cell_type": "markdown",
   "id": "cb227f6c",
   "metadata": {},
   "source": [
    "# Plot all simulated jMSFS collapsed into PC-space\n",
    "The `color_by` argument allows you to color the points by a specific parameter column (see previous cell for options)."
   ]
  },
  {
   "cell_type": "code",
   "execution_count": 29,
   "id": "d2dc573e",
   "metadata": {},
   "outputs": [
    {
     "data": {
      "image/png": "[encoded data removed]",
      "text/plain": [
       "<Figure size 504x360 with 2 Axes>"
      ]
     },
     "metadata": {
      "needs_background": "light"
     },
     "output_type": "display_data"
    }
   ],
   "source": [
    "ax = sim.plot_sims_PCA(color_by=\"r_moderns_mean\")"
   ]
  },
  {
   "cell_type": "markdown",
   "id": "57547bae",
   "metadata": {},
   "source": [
    "# Constant size"
   ]
  },
  {
   "cell_type": "raw",
   "id": "57154915",
   "metadata": {},
   "source": [
    "sim = PTA.DemographicModel_2D_Temporal(\"ConstantSize\")\n",
    "sim.set_param(\"npops\", 5)                       # Number of co-distributed population pairs\n",
    "sim.set_param(\"nsamps\", [10,10])                  # Historical and contemporary sample size (in diploid individuals)\n",
    "sim.set_param(\"num_replicates\", 100)             # Number of independent genomic regions to simulate (# loci)\n",
    "sim.set_param(\"muts_per_gen\", 0.0000001)        # Obvious\n",
    "sim.set_param(\"generation_time\", [3,3,3,2,1])             # Obvious\n",
    "sim.set_param(\"r_modern_mu\", 0)\n",
    "sim.set_param(\"ne_ancestral\", [10000, 100000])            # Set a prior range on ne_ancestral\n",
    "print(sim.get_params())"
   ]
  },
  {
   "cell_type": "code",
   "execution_count": 5,
   "id": "040e7d72",
   "metadata": {},
   "outputs": [
    {
     "data": {
      "text/plain": [
       "{'sorted_sfs': True,\n",
       " 'allow_psi>1': False,\n",
       " 'proportional_msfs': False,\n",
       " 'mu_variance': 0,\n",
       " 'Ne_loguniform': False,\n",
       " 'scale_tau_to_coaltime': False,\n",
       " 'tau_buffer': 0,\n",
       " 'sfs_dim': 2,\n",
       " 'fix_ts': 0}"
      ]
     },
     "execution_count": 5,
     "metadata": {},
     "output_type": "execute_result"
    }
   ],
   "source": [
    "sim._hackersonly"
   ]
  },
  {
   "cell_type": "code",
   "execution_count": 3,
   "id": "404b0aa3",
   "metadata": {},
   "outputs": [
    {
     "name": "stdout",
     "output_type": "stream",
     "text": [
      "    Generating 10000 simulation(s).\n",
      "  [####################] 100%  Finished 10000 simulations in   0:11:53\n",
      " "
     ]
    }
   ],
   "source": [
    "nsims = 10000\n",
    "sim.simulate(nsims=nsims, ipyclient=ipyclient)"
   ]
  },
  {
   "cell_type": "markdown",
   "id": "347ea669",
   "metadata": {},
   "source": [
    "# Fixed Ne, variable r_modern"
   ]
  },
  {
   "cell_type": "code",
   "execution_count": 110,
   "id": "31a90a36",
   "metadata": {},
   "outputs": [
    {
     "name": "stdout",
     "output_type": "stream",
     "text": [
      "------- PTA params - DemographicModel_2D_Temporal - (v.0.0.12) -----------------\n",
      "VariableRModern      ## [0] [simulation_name]: The name of this simulation scenario\n",
      "./default_PTA        ## [1] [project_dir]: Where to save files\n",
      "5                    ## [2] [npops]: Number of populations undergoing co-demographic processes\n",
      "10,10                ## [3] [nsamps]: Numbers of samples for each populations\n",
      "0                    ## [4] [zeta]: Proportion of coexpanding taxa. Default will sample U~(0, 1)\n",
      "1000                 ## [5] [length]: Length in bp of each independent genomic region to simulate\n",
      "100,100,100,100,100  ## [6] [num_replicates]: Number of genomic regions to simulate\n",
      "3.0,3.0,3.0,3.0,3.0  ## [7] [generation_time]: Generation time in years\n",
      "1e-09                ## [8] [recoms_per_gen]: Recombination rate within independent regions scaled per base per generation\n",
      "1e-07                ## [9] [muts_per_gen]: Mutation rate scaled per base per generation\n",
      "80                   ## [10] [t_recent_change]: Time of recent size change (years)\n",
      "110                  ## [11] [t_historic_samp]: Time the historical sample was taken (years)\n",
      "15000                ## [12] [t_ancestral_change]: Time of ancestral size change (years)\n",
      "10000                ## [13] [ne_ancestral]: Ancestral Ne\n",
      "-0.2,0               ## [14] [r_modern_mu]: Mean growth rate between time 0 and t_recent_change\n",
      "0,0.1                ## [15] [r_modern_sigma]: Stdv for r_modern normal distribution\n",
      "0                    ## [16] [r_ancestral]: Growth rate between t_ancestral_change and t_recent_change\n",
      "\n"
     ]
    }
   ],
   "source": [
    "sim = PTA.DemographicModel_2D_Temporal(\"VariableRModern\")\n",
    "sim.set_param(\"npops\", 5)                       # Number of co-distributed population pairs\n",
    "sim.set_param(\"nsamps\", [10,10])                  # Historical and contemporary sample size (in diploid individuals)\n",
    "sim.set_param(\"num_replicates\", 100)             # Number of independent genomic regions to simulate (# loci)\n",
    "sim.set_param(\"muts_per_gen\", 0.0000001)        # Obvious\n",
    "sim.set_param(\"generation_time\", 3)             # Obvious\n",
    "sim.set_param(\"r_modern_mu\", [-0.2, 0])\n",
    "sim.set_param(\"r_modern_sigma\", [0, 0.1])\n",
    "sim.set_param(\"ne_ancestral\", 10000)            # Set a prior range on ne_ancestral\n",
    "print(sim.get_params())"
   ]
  },
  {
   "cell_type": "code",
   "execution_count": 12,
   "id": "5cca7001",
   "metadata": {},
   "outputs": [
    {
     "name": "stdout",
     "output_type": "stream",
     "text": [
      "  [####################] 100%  Finished 2 simulations in   0:00:02 | \n",
      " "
     ]
    }
   ],
   "source": [
    "my_jmsfs = sim.serial_simulate(nsims=2)"
   ]
  },
  {
   "cell_type": "code",
   "execution_count": 13,
   "id": "29ff776d",
   "metadata": {
    "collapsed": true
   },
   "outputs": [
    {
     "data": {
      "text/plain": [
       "[\n",
       "     jMSFS: ntaxa=5 - shape=(21, 21)\n",
       " \n",
       " [[[  0.  218.   59.  ...   0.    0.    0. ]\n",
       "   [213.5 137.5  62.  ...   0.    0.    0. ]\n",
       "   [ 66.5  73.   80.5 ...   0.    0.    0. ]\n",
       "   ...\n",
       "   [  0.    0.    0.  ...   0.    0.    0. ]\n",
       "   [  0.    0.    0.  ...   0.    0.    0. ]\n",
       "   [  0.    0.    0.  ...   0.    0.    0. ]]\n",
       " \n",
       "  [[  0.  214.   48.5 ...   0.    0.    0. ]\n",
       "   [211.  130.5  59.  ...   0.    0.    0. ]\n",
       "   [ 63.   70.5  52.5 ...   0.    0.    0. ]\n",
       "   ...\n",
       "   [  0.    0.    0.  ...   0.    0.    0. ]\n",
       "   [  0.    0.    0.  ...   0.    0.    0. ]\n",
       "   [  0.    0.    0.  ...   0.    0.    0. ]]\n",
       " \n",
       "  [[  0.  198.   47.5 ...   0.    0.    0. ]\n",
       "   [204.5  93.   52.  ...   0.    0.    0. ]\n",
       "   [ 62.5  62.   48.  ...   0.    0.    0. ]\n",
       "   ...\n",
       "   [  0.    0.    0.  ...   0.    0.    0. ]\n",
       "   [  0.    0.    0.  ...   0.    0.    0. ]\n",
       "   [  0.    0.    0.  ...   0.    0.    0. ]]\n",
       " \n",
       "  [[  0.  184.5  47.  ...   0.    0.    0. ]\n",
       "   [204.   91.   50.5 ...   0.    0.    0. ]\n",
       "   [ 47.   42.5  39.  ...   0.    0.    0. ]\n",
       "   ...\n",
       "   [  0.    0.    0.  ...   0.    0.    0. ]\n",
       "   [  0.    0.    0.  ...   0.    0.    0. ]\n",
       "   [  0.    0.    0.  ...   0.    0.    0. ]]\n",
       " \n",
       "  [[  0.  184.   44.5 ...   0.    0.    0. ]\n",
       "   [180.5  82.5  32.5 ...   0.    0.    0. ]\n",
       "   [ 46.   36.   31.5 ...   0.    0.    0. ]\n",
       "   ...\n",
       "   [  0.    0.    0.  ...   0.    0.    0. ]\n",
       "   [  0.    0.    0.  ...   0.    0.    0. ]\n",
       "   [  0.    0.    0.  ...   0.    0.    0. ]]]\n",
       "             ,\n",
       " \n",
       "     jMSFS: ntaxa=5 - shape=(21, 21)\n",
       " \n",
       " [[[  0.  241.   53.5 ...   0.    0.    0. ]\n",
       "   [247.  166.   55.5 ...   0.    0.    0. ]\n",
       "   [ 54.   57.5  48.  ...   0.    0.    0. ]\n",
       "   ...\n",
       "   [  0.    0.    0.  ...   0.    0.    0. ]\n",
       "   [  0.    0.    0.  ...   0.    0.    0. ]\n",
       "   [  0.    0.    0.  ...   0.    0.    0. ]]\n",
       " \n",
       "  [[  0.  232.   50.  ...   0.    0.    0. ]\n",
       "   [203.5 132.   50.  ...   0.    0.    0. ]\n",
       "   [ 48.   55.   44.5 ...   0.    0.    0. ]\n",
       "   ...\n",
       "   [  0.    0.    0.  ...   0.    0.    0. ]\n",
       "   [  0.    0.    0.  ...   0.    0.    0. ]\n",
       "   [  0.    0.    0.  ...   0.    0.    0. ]]\n",
       " \n",
       "  [[  0.  213.   49.5 ...   0.    0.    0. ]\n",
       "   [198.  107.   49.  ...   0.    0.    0. ]\n",
       "   [ 33.   53.   44.5 ...   0.    0.    0. ]\n",
       "   ...\n",
       "   [  0.    0.    0.  ...   0.    0.    0. ]\n",
       "   [  0.    0.    0.  ...   0.    0.    0. ]\n",
       "   [  0.    0.    0.  ...   0.    0.    0. ]]\n",
       " \n",
       "  [[  0.  204.5  47.  ...   0.    0.    0. ]\n",
       "   [178.5  94.5  48.5 ...   0.    0.    0. ]\n",
       "   [ 33.   35.5  35.  ...   0.    0.    0. ]\n",
       "   ...\n",
       "   [  0.    0.    0.  ...   0.    0.    0. ]\n",
       "   [  0.    0.    0.  ...   0.    0.    0. ]\n",
       "   [  0.    0.    0.  ...   0.    0.    0. ]]\n",
       " \n",
       "  [[  0.  180.5  41.5 ...   0.    0.    0. ]\n",
       "   [165.5  81.   44.5 ...   0.    0.    0. ]\n",
       "   [ 33.   31.   33.5 ...   0.    0.    0. ]\n",
       "   ...\n",
       "   [  0.    0.    0.  ...   0.    0.    0. ]\n",
       "   [  0.    0.    0.  ...   0.    0.    0. ]\n",
       "   [  0.    0.    0.  ...   0.    0.    0. ]]]\n",
       "             ]"
      ]
     },
     "execution_count": 13,
     "metadata": {},
     "output_type": "execute_result"
    }
   ],
   "source": [
    "my_jmsfs"
   ]
  },
  {
   "cell_type": "code",
   "execution_count": 65,
   "id": "a6ef51a1",
   "metadata": {},
   "outputs": [
    {
     "name": "stdout",
     "output_type": "stream",
     "text": [
      "    Generating 10000 simulation(s).\n",
      "  [####################] 100%  Finished 10000 simulations in   0:11:20\n",
      " "
     ]
    }
   ],
   "source": [
    "nsims = 10000\n",
    "sim.simulate(nsims=nsims, ipyclient=ipyclient)"
   ]
  },
  {
   "cell_type": "code",
   "execution_count": 62,
   "id": "92d9cf3c",
   "metadata": {},
   "outputs": [
    {
     "name": "stdout",
     "output_type": "stream",
     "text": [
      "10000\n"
     ]
    },
    {
     "data": {
      "text/html": [
       "<div>\n",
       "<style scoped>\n",
       "    .dataframe tbody tr th:only-of-type {\n",
       "        vertical-align: middle;\n",
       "    }\n",
       "\n",
       "    .dataframe tbody tr th {\n",
       "        vertical-align: top;\n",
       "    }\n",
       "\n",
       "    .dataframe thead th {\n",
       "        text-align: right;\n",
       "    }\n",
       "</style>\n",
       "<table border=\"1\" class=\"dataframe\">\n",
       "  <thead>\n",
       "    <tr style=\"text-align: right;\">\n",
       "      <th></th>\n",
       "      <th>zeta</th>\n",
       "      <th>zeta_e</th>\n",
       "      <th>r_modern_mu</th>\n",
       "      <th>r_modern_sigma</th>\n",
       "      <th>r_moderns_mean</th>\n",
       "      <th>r_moderns_std</th>\n",
       "      <th>r_moderns_skewness</th>\n",
       "      <th>r_moderns_kurtosis</th>\n",
       "      <th>r_moderns_median</th>\n",
       "      <th>r_moderns_iqr</th>\n",
       "      <th>Ne_s_mean</th>\n",
       "      <th>Ne_s_std</th>\n",
       "      <th>Ne_s_skewness</th>\n",
       "      <th>Ne_s_kurtosis</th>\n",
       "      <th>Ne_s_median</th>\n",
       "      <th>Ne_s_iqr</th>\n",
       "    </tr>\n",
       "  </thead>\n",
       "  <tbody>\n",
       "    <tr>\n",
       "      <th>9995</th>\n",
       "      <td>0.819</td>\n",
       "      <td>5</td>\n",
       "      <td>-0.038</td>\n",
       "      <td>0.061</td>\n",
       "      <td>-0.004</td>\n",
       "      <td>0.045</td>\n",
       "      <td>-1.094</td>\n",
       "      <td>-0.212</td>\n",
       "      <td>0.005</td>\n",
       "      <td>0.023</td>\n",
       "      <td>10000.0</td>\n",
       "      <td>0.0</td>\n",
       "      <td>0.0</td>\n",
       "      <td>-3.0</td>\n",
       "      <td>10000.0</td>\n",
       "      <td>0.0</td>\n",
       "    </tr>\n",
       "    <tr>\n",
       "      <th>9996</th>\n",
       "      <td>0.254</td>\n",
       "      <td>2</td>\n",
       "      <td>-0.007</td>\n",
       "      <td>0.083</td>\n",
       "      <td>0.029</td>\n",
       "      <td>0.094</td>\n",
       "      <td>0.032</td>\n",
       "      <td>-1.619</td>\n",
       "      <td>0.014</td>\n",
       "      <td>0.174</td>\n",
       "      <td>10000.0</td>\n",
       "      <td>0.0</td>\n",
       "      <td>0.0</td>\n",
       "      <td>-3.0</td>\n",
       "      <td>10000.0</td>\n",
       "      <td>0.0</td>\n",
       "    </tr>\n",
       "    <tr>\n",
       "      <th>9997</th>\n",
       "      <td>0.809</td>\n",
       "      <td>5</td>\n",
       "      <td>-0.003</td>\n",
       "      <td>0.012</td>\n",
       "      <td>0.004</td>\n",
       "      <td>0.015</td>\n",
       "      <td>-1.161</td>\n",
       "      <td>-0.167</td>\n",
       "      <td>0.008</td>\n",
       "      <td>0.009</td>\n",
       "      <td>10000.0</td>\n",
       "      <td>0.0</td>\n",
       "      <td>0.0</td>\n",
       "      <td>-3.0</td>\n",
       "      <td>10000.0</td>\n",
       "      <td>0.0</td>\n",
       "    </tr>\n",
       "    <tr>\n",
       "      <th>9998</th>\n",
       "      <td>0.816</td>\n",
       "      <td>5</td>\n",
       "      <td>-0.134</td>\n",
       "      <td>0.154</td>\n",
       "      <td>-0.082</td>\n",
       "      <td>0.145</td>\n",
       "      <td>0.616</td>\n",
       "      <td>-1.013</td>\n",
       "      <td>-0.116</td>\n",
       "      <td>0.199</td>\n",
       "      <td>10000.0</td>\n",
       "      <td>0.0</td>\n",
       "      <td>0.0</td>\n",
       "      <td>-3.0</td>\n",
       "      <td>10000.0</td>\n",
       "      <td>0.0</td>\n",
       "    </tr>\n",
       "    <tr>\n",
       "      <th>9999</th>\n",
       "      <td>0.195</td>\n",
       "      <td>1</td>\n",
       "      <td>-0.053</td>\n",
       "      <td>0.092</td>\n",
       "      <td>-0.031</td>\n",
       "      <td>0.044</td>\n",
       "      <td>-0.637</td>\n",
       "      <td>-0.624</td>\n",
       "      <td>-0.023</td>\n",
       "      <td>0.034</td>\n",
       "      <td>10000.0</td>\n",
       "      <td>0.0</td>\n",
       "      <td>0.0</td>\n",
       "      <td>-3.0</td>\n",
       "      <td>10000.0</td>\n",
       "      <td>0.0</td>\n",
       "    </tr>\n",
       "  </tbody>\n",
       "</table>\n",
       "</div>"
      ],
      "text/plain": [
       "       zeta  zeta_e  r_modern_mu  r_modern_sigma  r_moderns_mean  \\\n",
       "9995  0.819       5       -0.038           0.061          -0.004   \n",
       "9996  0.254       2       -0.007           0.083           0.029   \n",
       "9997  0.809       5       -0.003           0.012           0.004   \n",
       "9998  0.816       5       -0.134           0.154          -0.082   \n",
       "9999  0.195       1       -0.053           0.092          -0.031   \n",
       "\n",
       "      r_moderns_std  r_moderns_skewness  r_moderns_kurtosis  r_moderns_median  \\\n",
       "9995          0.045              -1.094              -0.212             0.005   \n",
       "9996          0.094               0.032              -1.619             0.014   \n",
       "9997          0.015              -1.161              -0.167             0.008   \n",
       "9998          0.145               0.616              -1.013            -0.116   \n",
       "9999          0.044              -0.637              -0.624            -0.023   \n",
       "\n",
       "      r_moderns_iqr  Ne_s_mean  Ne_s_std  Ne_s_skewness  Ne_s_kurtosis  \\\n",
       "9995          0.023    10000.0       0.0            0.0           -3.0   \n",
       "9996          0.174    10000.0       0.0            0.0           -3.0   \n",
       "9997          0.009    10000.0       0.0            0.0           -3.0   \n",
       "9998          0.199    10000.0       0.0            0.0           -3.0   \n",
       "9999          0.034    10000.0       0.0            0.0           -3.0   \n",
       "\n",
       "      Ne_s_median  Ne_s_iqr  \n",
       "9995      10000.0       0.0  \n",
       "9996      10000.0       0.0  \n",
       "9997      10000.0       0.0  \n",
       "9998      10000.0       0.0  \n",
       "9999      10000.0       0.0  "
      ]
     },
     "execution_count": 62,
     "metadata": {},
     "output_type": "execute_result"
    },
    {
     "data": {
      "image/png": "[encoded data removed]",
      "text/plain": [
       "<Figure size 432x288 with 1 Axes>"
      ]
     },
     "metadata": {
      "needs_background": "light"
     },
     "output_type": "display_data"
    }
   ],
   "source": [
    "params, jmsfs = sim.load_simulations()\n",
    "print(len(jmsfs))\n",
    "plt.hist(params[\"r_modern_sigma\"], bins=20)\n",
    "params.tail()"
   ]
  },
  {
   "cell_type": "code",
   "execution_count": 67,
   "id": "2b276d4c",
   "metadata": {},
   "outputs": [
    {
     "data": {
      "image/png": "[encoded data removed]",
      "text/plain": [
       "<Figure size 504x360 with 2 Axes>"
      ]
     },
     "metadata": {
      "needs_background": "light"
     },
     "output_type": "display_data"
    }
   ],
   "source": [
    "ax = sim.plot_sims_PCA(color_by=\"r_modern_mu\")"
   ]
  },
  {
   "cell_type": "markdown",
   "id": "7907a041",
   "metadata": {},
   "source": [
    "# Trash and notes below here"
   ]
  },
  {
   "cell_type": "markdown",
   "id": "ac6ddad8",
   "metadata": {},
   "source": []
  },
  {
   "cell_type": "code",
   "execution_count": 48,
   "id": "5939ab05",
   "metadata": {},
   "outputs": [
    {
     "data": {
      "text/plain": [
       "36787.94411714424"
      ]
     },
     "execution_count": 48,
     "metadata": {},
     "output_type": "execute_result"
    }
   ],
   "source": [
    "#ne_contemp=ne_historic/np.exp(-(r_modern)*(t_recent_change/gentime))\n",
    "r_modern = -0.01\n",
    "t_recent_change = 100\n",
    "gentime = 1\n",
    "1e5/np.exp(-(r_modern)*(t_recent_change/gentime))\n"
   ]
  },
  {
   "cell_type": "code",
   "execution_count": 88,
   "id": "ae732b10",
   "metadata": {},
   "outputs": [
    {
     "name": "stdout",
     "output_type": "stream",
     "text": [
      "------- PTA params - DemographicModel_2D_Temporal - (v.0.0.12) -----------------\n",
      "tmp                  ## [0] [simulation_name]: The name of this simulation scenario\n",
      "./default_PTA        ## [1] [project_dir]: Where to save files\n",
      "10                   ## [2] [npops]: Number of populations undergoing co-demographic processes\n",
      "4,4                  ## [3] [nsamps]: Numbers of samples for each populations\n",
      "0                    ## [4] [zeta]: Proportion of coexpanding taxa. Default will sample U~(0, 1)\n",
      "1000                 ## [5] [length]: Length in bp of each independent genomic region to simulate\n",
      "100                  ## [6] [num_replicates]: Number of genomic regions to simulate\n",
      "1                    ## [7] [generation_time]: Generation time in years\n",
      "1e-09                ## [8] [recoms_per_gen]: Recombination rate within independent regions scaled per base per generation\n",
      "1e-08                ## [9] [muts_per_gen]: Mutation rate scaled per base per generation\n",
      "80                   ## [10] [t_recent_change]: Time of recent size change (years)\n",
      "110                  ## [11] [t_historic_samp]: Time the historical sample was taken (years)\n",
      "15000                ## [12] [t_ancestral_change]: Time of ancestral size change (years)\n",
      "100000               ## [13] [ne_ancestral]: Ancestral Ne\n",
      "-0.01,-0.1           ## [14] [r_modern]: Growth rate between time 0 and t_recent_change\n",
      "0,0.01               ## [15] [r_modern_sigma]: Stdv if r_modern is sampled uniformly\n",
      "0                    ## [16] [r_ancestral]: Growth rate between t_ancestral_change and t_recent_change\n",
      "\n",
      "  [####################] 100%  Finished 1 simulations in   0:00:00 | \n",
      " "
     ]
    }
   ],
   "source": [
    "sim = PTA.DemographicModel_2D_Temporal(\"tmp\")\n",
    "sim.set_param(\"r_modern\", [-0.01, -0.1])\n",
    "sim.set_param(\"r_modern_sigma\", [0, 0.01])\n",
    "print(sim.get_params())\n",
    "my_jmsfs = sim.serial_simulate(nsims=1)"
   ]
  },
  {
   "cell_type": "code",
   "execution_count": 107,
   "id": "e8522a92",
   "metadata": {},
   "outputs": [
    {
     "data": {
      "text/plain": [
       "array([ 886.31382032,  118.88615144, 7448.123039  , 3199.1693277 ,\n",
       "       3083.52128387])"
      ]
     },
     "execution_count": 107,
     "metadata": {},
     "output_type": "execute_result"
    }
   ],
   "source": [
    "sim.set_param(\"r_modern_sigma\", [0, 0.2])\n",
    "sim.set_param(\"ne_ancestral\", (100, 10000))\n",
    "sim._hackersonly[\"Ne_loguniform\"] = True\n",
    "sim._sample_r_modern()\n",
    "sim._sample_Ne(nsamps=5)"
   ]
  }
 ],
 "metadata": {
  "kernelspec": {
   "display_name": "Python 3 (ipykernel)",
   "language": "python",
   "name": "python3"
  },
  "language_info": {
   "codemirror_mode": {
    "name": "ipython",
    "version": 3
   },
   "file_extension": ".py",
   "mimetype": "text/x-python",
   "name": "python",
   "nbconvert_exporter": "python",
   "pygments_lexer": "ipython3",
   "version": "3.10.4"
  }
 },
 "nbformat": 4,
 "nbformat_minor": 5
}
