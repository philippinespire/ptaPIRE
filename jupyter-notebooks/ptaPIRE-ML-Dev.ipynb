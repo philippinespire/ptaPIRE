{
 "cells": [
  {
   "cell_type": "code",
   "execution_count": 54,
   "id": "016708fd-c4bb-4aba-b37c-9ae9d1b4584e",
   "metadata": {},
   "outputs": [
    {
     "name": "stdout",
     "output_type": "stream",
     "text": [
      "The autoreload extension is already loaded. To reload it, use:\n",
      "  %reload_ext autoreload\n",
      "1.26.2\n"
     ]
    }
   ],
   "source": [
    "%load_ext autoreload\n",
    "%autoreload 2\n",
    "%matplotlib inline\n",
    "\n",
    "import glob\n",
    "import matplotlib.pyplot as plt\n",
    "import math\n",
    "import numpy as np\n",
    "print(np.__version__)\n",
    "import pandas as pd\n",
    "import tensorflow as tf\n",
    "from sklearn.metrics import ConfusionMatrixDisplay, PredictionErrorDisplay\n",
    "from tensorflow.keras.datasets import mnist\n",
    "\n",
    "import autokeras as ak\n",
    "pd.set_option('display.max_columns', None)\n",
    "\n",
    "from IPython.display import SVG, display"
   ]
  },
  {
   "cell_type": "markdown",
   "id": "e6b5486a-9f0a-4312-bc4f-b1ea6d6769d2",
   "metadata": {},
   "source": [
    "## Get the hang of the workflow using the mnist data"
   ]
  },
  {
   "cell_type": "code",
   "execution_count": 35,
   "id": "abbea769-0777-4341-b6e2-3f7930608dce",
   "metadata": {},
   "outputs": [
    {
     "name": "stdout",
     "output_type": "stream",
     "text": [
      "(60000, 28, 28)\n",
      "(60000,)\n",
      "[5 0 4]\n"
     ]
    }
   ],
   "source": [
    "(x_train, y_train), (x_test, y_test) = mnist.load_data()\n",
    "print(x_train.shape)  # (60000, 28, 28)\n",
    "print(y_train.shape)  # (60000,)\n",
    "print(y_train[:3])  # array([7, 2, 1], dtype=uint8)"
   ]
  },
  {
   "cell_type": "code",
   "execution_count": 36,
   "id": "19ae3366-9bad-4dba-b6b4-7afbcf284b3f",
   "metadata": {
    "scrolled": true
   },
   "outputs": [
    {
     "name": "stdout",
     "output_type": "stream",
     "text": [
      "Trial 1 Complete [00h 03m 52s]\n",
      "val_loss: 0.04004310816526413\n",
      "\n",
      "Best val_loss So Far: 0.04004310816526413\n",
      "Total elapsed time: 00h 03m 52s\n",
      "Epoch 1/10\n",
      "1875/1875 [==============================] - 27s 14ms/step - loss: 0.1619 - accuracy: 0.9504\n",
      "Epoch 2/10\n",
      "1875/1875 [==============================] - 26s 14ms/step - loss: 0.0749 - accuracy: 0.9764\n",
      "Epoch 3/10\n",
      "1875/1875 [==============================] - 26s 14ms/step - loss: 0.0622 - accuracy: 0.9810\n",
      "Epoch 4/10\n",
      "1875/1875 [==============================] - 27s 14ms/step - loss: 0.0508 - accuracy: 0.9845\n",
      "Epoch 5/10\n",
      "1875/1875 [==============================] - 26s 14ms/step - loss: 0.0478 - accuracy: 0.9843\n",
      "Epoch 6/10\n",
      "1875/1875 [==============================] - 26s 14ms/step - loss: 0.0420 - accuracy: 0.9869\n",
      "Epoch 7/10\n",
      "1875/1875 [==============================] - 26s 14ms/step - loss: 0.0377 - accuracy: 0.9876\n",
      "Epoch 8/10\n",
      "1875/1875 [==============================] - 26s 14ms/step - loss: 0.0343 - accuracy: 0.9892\n",
      "Epoch 9/10\n",
      "1875/1875 [==============================] - 26s 14ms/step - loss: 0.0320 - accuracy: 0.9897\n",
      "Epoch 10/10\n",
      "1875/1875 [==============================] - 26s 14ms/step - loss: 0.0307 - accuracy: 0.9903\n",
      "INFO:tensorflow:Assets written to: ./image_classifier/best_model/assets\n"
     ]
    },
    {
     "name": "stderr",
     "output_type": "stream",
     "text": [
      "INFO:tensorflow:Assets written to: ./image_classifier/best_model/assets\n"
     ]
    },
    {
     "name": "stdout",
     "output_type": "stream",
     "text": [
      "313/313 [==============================] - 1s 4ms/step\n",
      "313/313 [==============================] - 1s 4ms/step\n",
      "[['7']\n",
      " ['2']\n",
      " ['1']\n",
      " ...\n",
      " ['4']\n",
      " ['5']\n",
      " ['6']]\n",
      "313/313 [==============================] - 1s 4ms/step - loss: 0.0340 - accuracy: 0.9898\n",
      "[0.03401508182287216, 0.989799976348877]\n"
     ]
    }
   ],
   "source": [
    "# Initialize the image classifier.\n",
    "clf = ak.ImageClassifier(overwrite=True, max_trials=1)\n",
    "# Feed the image classifier with training data.\n",
    "clf.fit(x_train, y_train, epochs=10)\n",
    "\n",
    "# Predict with the best model.\n",
    "predicted_y = clf.predict(x_test)\n",
    "print(predicted_y)\n",
    "\n",
    "# Evaluate the best model with testing data.\n",
    "print(clf.evaluate(x_test, y_test))"
   ]
  },
  {
   "cell_type": "markdown",
   "id": "a892d83c-3ca3-49ec-8e7f-8fc698eb41ec",
   "metadata": {},
   "source": [
    "# Now work with PTA jMSFS. Here is a function to load the simulations and reshape the jmsfs to what tf expects"
   ]
  },
  {
   "cell_type": "code",
   "execution_count": 55,
   "id": "0a65f35b-c4e7-4872-8911-d686c5322be2",
   "metadata": {},
   "outputs": [
    {
     "name": "stdout",
     "output_type": "stream",
     "text": [
      "4400 (4400, 21, 21, 5)\n"
     ]
    },
    {
     "data": {
      "text/html": [
       "<div>\n",
       "<style scoped>\n",
       "    .dataframe tbody tr th:only-of-type {\n",
       "        vertical-align: middle;\n",
       "    }\n",
       "\n",
       "    .dataframe tbody tr th {\n",
       "        vertical-align: top;\n",
       "    }\n",
       "\n",
       "    .dataframe thead th {\n",
       "        text-align: right;\n",
       "    }\n",
       "</style>\n",
       "<table border=\"1\" class=\"dataframe\">\n",
       "  <thead>\n",
       "    <tr style=\"text-align: right;\">\n",
       "      <th></th>\n",
       "      <th>zeta</th>\n",
       "      <th>zeta_e</th>\n",
       "      <th>r_moderns_mean</th>\n",
       "      <th>r_moderns_std</th>\n",
       "      <th>r_moderns_skewness</th>\n",
       "      <th>r_moderns_kurtosis</th>\n",
       "      <th>r_moderns_median</th>\n",
       "      <th>r_moderns_iqr</th>\n",
       "      <th>Ne_s_mean</th>\n",
       "      <th>Ne_s_std</th>\n",
       "      <th>Ne_s_skewness</th>\n",
       "      <th>Ne_s_kurtosis</th>\n",
       "      <th>Ne_s_median</th>\n",
       "      <th>Ne_s_iqr</th>\n",
       "    </tr>\n",
       "  </thead>\n",
       "  <tbody>\n",
       "    <tr>\n",
       "      <th>0</th>\n",
       "      <td>0.904</td>\n",
       "      <td>5</td>\n",
       "      <td>-0.10</td>\n",
       "      <td>0.0</td>\n",
       "      <td>0.0</td>\n",
       "      <td>-3.0</td>\n",
       "      <td>-0.10</td>\n",
       "      <td>0.0</td>\n",
       "      <td>10000.0</td>\n",
       "      <td>0.0</td>\n",
       "      <td>0.0</td>\n",
       "      <td>-3.0</td>\n",
       "      <td>10000.0</td>\n",
       "      <td>0.0</td>\n",
       "    </tr>\n",
       "    <tr>\n",
       "      <th>1</th>\n",
       "      <td>0.499</td>\n",
       "      <td>3</td>\n",
       "      <td>-0.10</td>\n",
       "      <td>0.0</td>\n",
       "      <td>0.0</td>\n",
       "      <td>-3.0</td>\n",
       "      <td>-0.10</td>\n",
       "      <td>0.0</td>\n",
       "      <td>10000.0</td>\n",
       "      <td>0.0</td>\n",
       "      <td>0.0</td>\n",
       "      <td>-3.0</td>\n",
       "      <td>10000.0</td>\n",
       "      <td>0.0</td>\n",
       "    </tr>\n",
       "    <tr>\n",
       "      <th>2</th>\n",
       "      <td>0.740</td>\n",
       "      <td>4</td>\n",
       "      <td>-0.10</td>\n",
       "      <td>0.0</td>\n",
       "      <td>0.0</td>\n",
       "      <td>-3.0</td>\n",
       "      <td>-0.10</td>\n",
       "      <td>0.0</td>\n",
       "      <td>10000.0</td>\n",
       "      <td>0.0</td>\n",
       "      <td>0.0</td>\n",
       "      <td>-3.0</td>\n",
       "      <td>10000.0</td>\n",
       "      <td>0.0</td>\n",
       "    </tr>\n",
       "    <tr>\n",
       "      <th>3</th>\n",
       "      <td>0.599</td>\n",
       "      <td>3</td>\n",
       "      <td>-0.10</td>\n",
       "      <td>0.0</td>\n",
       "      <td>0.0</td>\n",
       "      <td>-3.0</td>\n",
       "      <td>-0.10</td>\n",
       "      <td>0.0</td>\n",
       "      <td>10000.0</td>\n",
       "      <td>0.0</td>\n",
       "      <td>0.0</td>\n",
       "      <td>-3.0</td>\n",
       "      <td>10000.0</td>\n",
       "      <td>0.0</td>\n",
       "    </tr>\n",
       "    <tr>\n",
       "      <th>4</th>\n",
       "      <td>0.941</td>\n",
       "      <td>5</td>\n",
       "      <td>-0.10</td>\n",
       "      <td>0.0</td>\n",
       "      <td>0.0</td>\n",
       "      <td>-3.0</td>\n",
       "      <td>-0.10</td>\n",
       "      <td>0.0</td>\n",
       "      <td>10000.0</td>\n",
       "      <td>0.0</td>\n",
       "      <td>0.0</td>\n",
       "      <td>-3.0</td>\n",
       "      <td>10000.0</td>\n",
       "      <td>0.0</td>\n",
       "    </tr>\n",
       "    <tr>\n",
       "      <th>...</th>\n",
       "      <td>...</td>\n",
       "      <td>...</td>\n",
       "      <td>...</td>\n",
       "      <td>...</td>\n",
       "      <td>...</td>\n",
       "      <td>...</td>\n",
       "      <td>...</td>\n",
       "      <td>...</td>\n",
       "      <td>...</td>\n",
       "      <td>...</td>\n",
       "      <td>...</td>\n",
       "      <td>...</td>\n",
       "      <td>...</td>\n",
       "      <td>...</td>\n",
       "    </tr>\n",
       "    <tr>\n",
       "      <th>4395</th>\n",
       "      <td>0.978</td>\n",
       "      <td>5</td>\n",
       "      <td>-0.01</td>\n",
       "      <td>0.0</td>\n",
       "      <td>0.0</td>\n",
       "      <td>-3.0</td>\n",
       "      <td>-0.01</td>\n",
       "      <td>0.0</td>\n",
       "      <td>100000.0</td>\n",
       "      <td>0.0</td>\n",
       "      <td>0.0</td>\n",
       "      <td>-3.0</td>\n",
       "      <td>100000.0</td>\n",
       "      <td>0.0</td>\n",
       "    </tr>\n",
       "    <tr>\n",
       "      <th>4396</th>\n",
       "      <td>0.595</td>\n",
       "      <td>3</td>\n",
       "      <td>-0.01</td>\n",
       "      <td>0.0</td>\n",
       "      <td>0.0</td>\n",
       "      <td>-3.0</td>\n",
       "      <td>-0.01</td>\n",
       "      <td>0.0</td>\n",
       "      <td>100000.0</td>\n",
       "      <td>0.0</td>\n",
       "      <td>0.0</td>\n",
       "      <td>-3.0</td>\n",
       "      <td>100000.0</td>\n",
       "      <td>0.0</td>\n",
       "    </tr>\n",
       "    <tr>\n",
       "      <th>4397</th>\n",
       "      <td>0.897</td>\n",
       "      <td>5</td>\n",
       "      <td>-0.01</td>\n",
       "      <td>0.0</td>\n",
       "      <td>0.0</td>\n",
       "      <td>-3.0</td>\n",
       "      <td>-0.01</td>\n",
       "      <td>0.0</td>\n",
       "      <td>100000.0</td>\n",
       "      <td>0.0</td>\n",
       "      <td>0.0</td>\n",
       "      <td>-3.0</td>\n",
       "      <td>100000.0</td>\n",
       "      <td>0.0</td>\n",
       "    </tr>\n",
       "    <tr>\n",
       "      <th>4398</th>\n",
       "      <td>0.072</td>\n",
       "      <td>1</td>\n",
       "      <td>-0.01</td>\n",
       "      <td>0.0</td>\n",
       "      <td>0.0</td>\n",
       "      <td>-3.0</td>\n",
       "      <td>-0.01</td>\n",
       "      <td>0.0</td>\n",
       "      <td>100000.0</td>\n",
       "      <td>0.0</td>\n",
       "      <td>0.0</td>\n",
       "      <td>-3.0</td>\n",
       "      <td>100000.0</td>\n",
       "      <td>0.0</td>\n",
       "    </tr>\n",
       "    <tr>\n",
       "      <th>4399</th>\n",
       "      <td>0.656</td>\n",
       "      <td>4</td>\n",
       "      <td>-0.01</td>\n",
       "      <td>0.0</td>\n",
       "      <td>0.0</td>\n",
       "      <td>-3.0</td>\n",
       "      <td>-0.01</td>\n",
       "      <td>0.0</td>\n",
       "      <td>100000.0</td>\n",
       "      <td>0.0</td>\n",
       "      <td>0.0</td>\n",
       "      <td>-3.0</td>\n",
       "      <td>100000.0</td>\n",
       "      <td>0.0</td>\n",
       "    </tr>\n",
       "  </tbody>\n",
       "</table>\n",
       "<p>4400 rows × 14 columns</p>\n",
       "</div>"
      ],
      "text/plain": [
       "       zeta  zeta_e  r_moderns_mean  r_moderns_std  r_moderns_skewness  \\\n",
       "0     0.904       5           -0.10            0.0                 0.0   \n",
       "1     0.499       3           -0.10            0.0                 0.0   \n",
       "2     0.740       4           -0.10            0.0                 0.0   \n",
       "3     0.599       3           -0.10            0.0                 0.0   \n",
       "4     0.941       5           -0.10            0.0                 0.0   \n",
       "...     ...     ...             ...            ...                 ...   \n",
       "4395  0.978       5           -0.01            0.0                 0.0   \n",
       "4396  0.595       3           -0.01            0.0                 0.0   \n",
       "4397  0.897       5           -0.01            0.0                 0.0   \n",
       "4398  0.072       1           -0.01            0.0                 0.0   \n",
       "4399  0.656       4           -0.01            0.0                 0.0   \n",
       "\n",
       "      r_moderns_kurtosis  r_moderns_median  r_moderns_iqr  Ne_s_mean  \\\n",
       "0                   -3.0             -0.10            0.0    10000.0   \n",
       "1                   -3.0             -0.10            0.0    10000.0   \n",
       "2                   -3.0             -0.10            0.0    10000.0   \n",
       "3                   -3.0             -0.10            0.0    10000.0   \n",
       "4                   -3.0             -0.10            0.0    10000.0   \n",
       "...                  ...               ...            ...        ...   \n",
       "4395                -3.0             -0.01            0.0   100000.0   \n",
       "4396                -3.0             -0.01            0.0   100000.0   \n",
       "4397                -3.0             -0.01            0.0   100000.0   \n",
       "4398                -3.0             -0.01            0.0   100000.0   \n",
       "4399                -3.0             -0.01            0.0   100000.0   \n",
       "\n",
       "      Ne_s_std  Ne_s_skewness  Ne_s_kurtosis  Ne_s_median  Ne_s_iqr  \n",
       "0          0.0            0.0           -3.0      10000.0       0.0  \n",
       "1          0.0            0.0           -3.0      10000.0       0.0  \n",
       "2          0.0            0.0           -3.0      10000.0       0.0  \n",
       "3          0.0            0.0           -3.0      10000.0       0.0  \n",
       "4          0.0            0.0           -3.0      10000.0       0.0  \n",
       "...        ...            ...            ...          ...       ...  \n",
       "4395       0.0            0.0           -3.0     100000.0       0.0  \n",
       "4396       0.0            0.0           -3.0     100000.0       0.0  \n",
       "4397       0.0            0.0           -3.0     100000.0       0.0  \n",
       "4398       0.0            0.0           -3.0     100000.0       0.0  \n",
       "4399       0.0            0.0           -3.0     100000.0       0.0  \n",
       "\n",
       "[4400 rows x 14 columns]"
      ]
     },
     "execution_count": 55,
     "metadata": {},
     "output_type": "execute_result"
    }
   ],
   "source": [
    "def load_simulations(simfile, nrows=None, npops=4, nsamps=(3,2)):\n",
    "    \"\"\"\n",
    "    Load in the simulation data, if it exists.\n",
    "    \"\"\"\n",
    "    dat = pd.read_csv(simfile, sep=\" \")\n",
    "\n",
    "    if nrows == None:\n",
    "        nrows = len(dat)\n",
    "\n",
    "    # Split the params and jsfs data\n",
    "    # The dataframe is formated so that the first bin of the jMSFS is 0\n",
    "    idx = dat.columns.get_loc('0')\n",
    "    params = dat.iloc[:nrows, :idx]\n",
    "    jmsfs = dat.iloc[:nrows, idx:]\n",
    "    nrows = min(len(jmsfs), nrows)\n",
    "    jmsfs = jmsfs.values.reshape(nrows,\n",
    "                        npops,\n",
    "                        nsamps[0]*2+1,\n",
    "                        nsamps[1]*2+1)\n",
    "    # Note: Autokeras expects the structure of the data to be slightly different so we have to shift around the axes\n",
    "    jmsfs = np.swapaxes(jmsfs, 1, 3)\n",
    "    jmsvs = np.swapaxes(jmsfs, 1, 2)\n",
    "\n",
    "    return params, jmsfs\n",
    "params, jmsfs = load_simulations(\"./default_PTA/2D-test-SIMOUT.csv\", npops=5, nsamps=(10,10))\n",
    "print(len(params), jmsfs.shape)\n",
    "params"
   ]
  },
  {
   "cell_type": "markdown",
   "id": "043fcf9b-2c48-44ea-a7f2-e8048533fd29",
   "metadata": {},
   "source": [
    "# A very hackish and \"by-hand\" test/train split routine"
   ]
  },
  {
   "cell_type": "code",
   "execution_count": 46,
   "id": "6f7a3270-71cf-4098-88e4-66ccbcde5dfd",
   "metadata": {},
   "outputs": [
    {
     "name": "stdout",
     "output_type": "stream",
     "text": [
      "16500\n",
      "(16500, 41, 41, 10) (5500, 41, 41, 10)\n"
     ]
    },
    {
     "data": {
      "text/plain": [
       "array([[[  0. ,   0. ,   0. , ...,   0. ,   0. ,   0. ],\n",
       "        [245.5, 241.5, 221. , ..., 209.5, 205. , 203.5],\n",
       "        [ 67.5,  65.5,  61.5, ...,  51.5,  51.5,  45. ],\n",
       "        ...,\n",
       "        [  0. ,   0. ,   0. , ...,   0. ,   0. ,   0. ],\n",
       "        [  0. ,   0. ,   0. , ...,   0. ,   0. ,   0. ],\n",
       "        [  0. ,   0. ,   0. , ...,   0. ,   0. ,   0. ]],\n",
       "\n",
       "       [[218.5, 212. , 197. , ..., 166.5, 161.5, 157. ],\n",
       "        [101. ,  98.5,  96.5, ...,  84. ,  77.5,  75. ],\n",
       "        [ 69. ,  58. ,  54. , ...,  39. ,  34. ,  34. ],\n",
       "        ...,\n",
       "        [  0. ,   0. ,   0. , ...,   0. ,   0. ,   0. ],\n",
       "        [  0. ,   0. ,   0. , ...,   0. ,   0. ,   0. ],\n",
       "        [  0. ,   0. ,   0. , ...,   0. ,   0. ,   0. ]],\n",
       "\n",
       "       [[ 67. ,  59.5,  57. , ...,  52. ,  47. ,  35.5],\n",
       "        [ 55.5,  53.5,  51. , ...,  38. ,  35. ,  33. ],\n",
       "        [ 62. ,  55.5,  46.5, ...,  31.5,  30.5,  26. ],\n",
       "        ...,\n",
       "        [  0. ,   0. ,   0. , ...,   0. ,   0. ,   0. ],\n",
       "        [  0. ,   0. ,   0. , ...,   0. ,   0. ,   0. ],\n",
       "        [  0. ,   0. ,   0. , ...,   0. ,   0. ,   0. ]],\n",
       "\n",
       "       ...,\n",
       "\n",
       "       [[  0. ,   0. ,   0. , ...,   0. ,   0. ,   0. ],\n",
       "        [  0. ,   0. ,   0. , ...,   0. ,   0. ,   0. ],\n",
       "        [  0. ,   0. ,   0. , ...,   0. ,   0. ,   0. ],\n",
       "        ...,\n",
       "        [  0. ,   0. ,   0. , ...,   0. ,   0. ,   0. ],\n",
       "        [  0. ,   0. ,   0. , ...,   0. ,   0. ,   0. ],\n",
       "        [  0. ,   0. ,   0. , ...,   0. ,   0. ,   0. ]],\n",
       "\n",
       "       [[  0. ,   0. ,   0. , ...,   0. ,   0. ,   0. ],\n",
       "        [  0. ,   0. ,   0. , ...,   0. ,   0. ,   0. ],\n",
       "        [  0. ,   0. ,   0. , ...,   0. ,   0. ,   0. ],\n",
       "        ...,\n",
       "        [  0. ,   0. ,   0. , ...,   0. ,   0. ,   0. ],\n",
       "        [  0. ,   0. ,   0. , ...,   0. ,   0. ,   0. ],\n",
       "        [  0. ,   0. ,   0. , ...,   0. ,   0. ,   0. ]],\n",
       "\n",
       "       [[  0. ,   0. ,   0. , ...,   0. ,   0. ,   0. ],\n",
       "        [  0. ,   0. ,   0. , ...,   0. ,   0. ,   0. ],\n",
       "        [  0. ,   0. ,   0. , ...,   0. ,   0. ,   0. ],\n",
       "        ...,\n",
       "        [  0. ,   0. ,   0. , ...,   0. ,   0. ,   0. ],\n",
       "        [  0. ,   0. ,   0. , ...,   0. ,   0. ,   0. ],\n",
       "        [  0. ,   0. ,   0. , ...,   0. ,   0. ,   0. ]]])"
      ]
     },
     "execution_count": 46,
     "metadata": {},
     "output_type": "execute_result"
    }
   ],
   "source": [
    "# Set the name of the target parameter here if you want to change it\n",
    "z = params[\"Ne_s_mean\"].astype(str)\n",
    "\n",
    "idxs = np.random.choice(len(z), int(len(z)*0.75), replace=False)\n",
    "mask = np.zeros(len(z), dtype=bool)\n",
    "mask[idxs] = True\n",
    "print(np.sum(mask))\n",
    "\n",
    "x_train = jmsfs[mask]\n",
    "x_test = jmsfs[~mask]\n",
    "y_train = z[mask]\n",
    "y_test = z[~mask]\n",
    "\n",
    "#idx = 750\n",
    "#x_train = jmsfs[:idx]\n",
    "#y_train = z[:idx]\n",
    "#x_test = jmsfs[idx:]\n",
    "#y_test = z[idx:]\n",
    "print(np.shape(x_train), np.shape(x_test))\n",
    "x_train[0]\n"
   ]
  },
  {
   "cell_type": "markdown",
   "id": "f11896d1-20e1-4cc5-8727-bd68a46563d1",
   "metadata": {},
   "source": [
    "# Run a classifier (works for zeta_e becuase its int values are converted to categorical)"
   ]
  },
  {
   "cell_type": "code",
   "execution_count": 49,
   "id": "5a834085-5b40-45e9-bcd1-04a5dc71dc70",
   "metadata": {},
   "outputs": [
    {
     "name": "stdout",
     "output_type": "stream",
     "text": [
      "Trial 1 Complete [00h 01m 15s]\n",
      "val_loss: 0.0\n",
      "\n",
      "Best val_loss So Far: 0.0\n",
      "Total elapsed time: 00h 01m 15s\n",
      "Epoch 1/5\n",
      "516/516 [==============================] - 15s 27ms/step - loss: 0.5863 - accuracy: 0.9445\n",
      "Epoch 2/5\n",
      "516/516 [==============================] - 14s 27ms/step - loss: 0.2059 - accuracy: 0.9770\n",
      "Epoch 3/5\n",
      "516/516 [==============================] - 14s 27ms/step - loss: 0.2040 - accuracy: 0.9950\n",
      "Epoch 4/5\n",
      "516/516 [==============================] - 14s 27ms/step - loss: 1.0284e-10 - accuracy: 1.0000\n",
      "Epoch 5/5\n",
      "516/516 [==============================] - 14s 27ms/step - loss: 1.6910e-10 - accuracy: 1.0000\n",
      "INFO:tensorflow:Assets written to: ./image_classifier/best_model/assets\n"
     ]
    },
    {
     "name": "stderr",
     "output_type": "stream",
     "text": [
      "INFO:tensorflow:Assets written to: ./image_classifier/best_model/assets\n"
     ]
    },
    {
     "name": "stdout",
     "output_type": "stream",
     "text": [
      "172/172 [==============================] - 2s 7ms/step\n",
      "172/172 [==============================] - 1s 7ms/step\n",
      "172/172 [==============================] - 2s 7ms/step - loss: 1.1425e-13 - accuracy: 1.0000\n",
      "[1.142478445832415e-13, 1.0]\n"
     ]
    }
   ],
   "source": [
    "# Initialize the image classifier.\n",
    "clf = ak.ImageClassifier(overwrite=True, max_trials=1)\n",
    "# Feed the image classifier with training data.\n",
    "clf.fit(x_train, y_train, epochs=5)\n",
    "\n",
    "# Predict with the best model.\n",
    "predicted_y = clf.predict(x_test)\n",
    "\n",
    "# Evaluate the best model with testing data.\n",
    "print(clf.evaluate(x_test, y_test))"
   ]
  },
  {
   "cell_type": "code",
   "execution_count": 53,
   "id": "eecd6333-c8ea-41b5-a20a-dd4bdd66d6b8",
   "metadata": {},
   "outputs": [
    {
     "data": {
      "text/plain": [
       "<sklearn.metrics._plot.confusion_matrix.ConfusionMatrixDisplay at 0x7f028e80fa10>"
      ]
     },
     "execution_count": 53,
     "metadata": {},
     "output_type": "execute_result"
    },
    {
     "data": {
      "image/png": "[encoded data removed]",
      "text/plain": [
       "<Figure size 640x480 with 2 Axes>"
      ]
     },
     "metadata": {},
     "output_type": "display_data"
    }
   ],
   "source": [
    "ConfusionMatrixDisplay.from_predictions(y_test, [x[0] for x in predicted_y], cmap=\"Greys\", normalize=\"true\")"
   ]
  },
  {
   "cell_type": "code",
   "execution_count": 34,
   "id": "846440a2-9868-4735-853e-2f24d97daf24",
   "metadata": {},
   "outputs": [
    {
     "data": {
      "text/plain": [
       "0        10000.0\n",
       "2        10000.0\n",
       "3        10000.0\n",
       "4        10000.0\n",
       "5        10000.0\n",
       "          ...   \n",
       "1959    100000.0\n",
       "1986    100000.0\n",
       "1990    100000.0\n",
       "1998    100000.0\n",
       "1999    100000.0\n",
       "Name: Ne_s_mean, Length: 500, dtype: float64"
      ]
     },
     "execution_count": 34,
     "metadata": {},
     "output_type": "execute_result"
    }
   ],
   "source": []
  },
  {
   "cell_type": "markdown",
   "id": "40310b77-ca3d-4c43-a6e0-28e2f1bd32a1",
   "metadata": {},
   "source": [
    "# Regression\n",
    "Here we can set the target to average Ne across all species, which is continuous valued so you can do regression on it"
   ]
  },
  {
   "cell_type": "code",
   "execution_count": 41,
   "id": "879712d5-1b25-40b5-8c26-9150f07ed959",
   "metadata": {},
   "outputs": [
    {
     "name": "stdout",
     "output_type": "stream",
     "text": [
      "Trial 2 Complete [00h 00m 35s]\n",
      "val_loss: 9810452480.0\n",
      "\n",
      "Best val_loss So Far: 9810452480.0\n",
      "Total elapsed time: 00h 01m 10s\n",
      "47/47 [==============================] - 31s 387ms/step - loss: 5121729024.0000 - mean_squared_error: 5121729024.0000\n",
      "INFO:tensorflow:Assets written to: ./image_regressor/best_model/assets\n"
     ]
    },
    {
     "name": "stderr",
     "output_type": "stream",
     "text": [
      "INFO:tensorflow:Assets written to: ./image_regressor/best_model/assets\n"
     ]
    },
    {
     "name": "stdout",
     "output_type": "stream",
     "text": [
      "16/16 [==============================] - 2s 73ms/step\n",
      "16/16 [==============================] - 1s 73ms/step\n",
      "16/16 [==============================] - 2s 73ms/step - loss: 4507072512.0000 - mean_squared_error: 4507072512.0000\n",
      "[4507072512.0, 4507072512.0]\n"
     ]
    }
   ],
   "source": [
    "z = params[\"Ne_s_mean\"]\n",
    "\n",
    "idxs = np.random.choice(len(z), int(len(z)*0.75), replace=False)\n",
    "mask = np.zeros(len(z), dtype=bool)\n",
    "mask[idxs] = True\n",
    "\n",
    "x_train = jmsfs[mask]\n",
    "x_test = jmsfs[~mask]\n",
    "y_train = z[mask]\n",
    "y_test = z[~mask]\n",
    "\n",
    "#idx = 750\n",
    "#x_train = jmsfs[:idx]\n",
    "#y_train = np.log(z[:idx])\n",
    "#x_test = jmsfs[idx:]\n",
    "#y_test = np.log(z[idx:])\n",
    "#print(np.shape(x_train))\n",
    "#x_train[0]\n",
    "\n",
    "# Initialize the image regressor.\n",
    "reg = ak.ImageRegressor(overwrite=True, max_trials=2)\n",
    "# Feed the image regressor with training data.\n",
    "reg.fit(x_train, y_train, epochs=1)\n",
    "\n",
    "# Predict with the best model.\n",
    "predicted_y = reg.predict(x_test)\n",
    "\n",
    "# Evaluate the best model with testing data.\n",
    "print(reg.evaluate(x_test, y_test))"
   ]
  },
  {
   "cell_type": "code",
   "execution_count": 42,
   "id": "1486cc2e-6702-44e1-b4df-8a8b456a2555",
   "metadata": {},
   "outputs": [
    {
     "data": {
      "text/plain": [
       "<sklearn.metrics._plot.regression.PredictionErrorDisplay at 0x7f027c1d4490>"
      ]
     },
     "execution_count": 42,
     "metadata": {},
     "output_type": "execute_result"
    },
    {
     "data": {
      "image/png": "[encoded data removed]",
      "text/plain": [
       "<Figure size 640x480 with 1 Axes>"
      ]
     },
     "metadata": {},
     "output_type": "display_data"
    }
   ],
   "source": [
    "#tmp_ytest = y_test.ravel()\n",
    "#np.random.shuffle(tmp_ytest)\n",
    "PredictionErrorDisplay.from_predictions(y_test, predicted_y.ravel(), kind=\"residual_vs_predicted\")"
   ]
  },
  {
   "cell_type": "code",
   "execution_count": 52,
   "id": "97218c23-6191-4469-a08a-a535c4d552e8",
   "metadata": {},
   "outputs": [
    {
     "data": {
      "text/plain": [
       "array([['10000.0'],\n",
       "       ['10000.0'],\n",
       "       ['10000.0'],\n",
       "       ...,\n",
       "       ['100000.0'],\n",
       "       ['100000.0'],\n",
       "       ['100000.0']], dtype='<U8')"
      ]
     },
     "execution_count": 52,
     "metadata": {},
     "output_type": "execute_result"
    }
   ],
   "source": [
    "predicted_y"
   ]
  },
  {
   "cell_type": "code",
   "execution_count": null,
   "id": "9a1122a8-d339-4c57-a70a-5951b52a7243",
   "metadata": {},
   "outputs": [],
   "source": []
  }
 ],
 "metadata": {
  "kernelspec": {
   "display_name": "Python 3 (ipykernel)",
   "language": "python",
   "name": "python3"
  },
  "language_info": {
   "codemirror_mode": {
    "name": "ipython",
    "version": 3
   },
   "file_extension": ".py",
   "mimetype": "text/x-python",
   "name": "python",
   "nbconvert_exporter": "python",
   "pygments_lexer": "ipython3",
   "version": "3.11.5"
  }
 },
 "nbformat": 4,
 "nbformat_minor": 5
}
